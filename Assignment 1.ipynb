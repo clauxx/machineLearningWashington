{
 "cells": [
  {
   "cell_type": "markdown",
   "metadata": {},
   "source": [
    "#Assignment One"
   ]
  },
  {
   "cell_type": "code",
   "execution_count": 28,
   "metadata": {
    "collapsed": true
   },
   "outputs": [],
   "source": [
    "import pandas as pd\n",
    "import numpy as np\n",
    "import matplotlib.pyplot as plt\n",
    "import seaborn as sns"
   ]
  },
  {
   "cell_type": "code",
   "execution_count": 29,
   "metadata": {
    "collapsed": true
   },
   "outputs": [],
   "source": [
    "#import the data set\n",
    "sales = pd.read_csv(\"home_data.csv\")"
   ]
  },
  {
   "cell_type": "code",
   "execution_count": 30,
   "metadata": {
    "collapsed": false
   },
   "outputs": [
    {
     "data": {
      "text/plain": [
       "7700000"
      ]
     },
     "execution_count": 30,
     "metadata": {},
     "output_type": "execute_result"
    }
   ],
   "source": [
    "#find the highest price of a house\n",
    "max(sales['price'])"
   ]
  },
  {
   "cell_type": "code",
   "execution_count": 31,
   "metadata": {
    "collapsed": false
   },
   "outputs": [
    {
     "data": {
      "text/html": [
       "<div>\n",
       "<table border=\"1\" class=\"dataframe\">\n",
       "  <thead>\n",
       "    <tr style=\"text-align: right;\">\n",
       "      <th></th>\n",
       "      <th>id</th>\n",
       "      <th>date</th>\n",
       "      <th>price</th>\n",
       "      <th>bedrooms</th>\n",
       "      <th>bathrooms</th>\n",
       "      <th>sqft_living</th>\n",
       "      <th>sqft_lot</th>\n",
       "      <th>floors</th>\n",
       "      <th>waterfront</th>\n",
       "      <th>view</th>\n",
       "      <th>...</th>\n",
       "      <th>grade</th>\n",
       "      <th>sqft_above</th>\n",
       "      <th>sqft_basement</th>\n",
       "      <th>yr_built</th>\n",
       "      <th>yr_renovated</th>\n",
       "      <th>zipcode</th>\n",
       "      <th>lat</th>\n",
       "      <th>long</th>\n",
       "      <th>sqft_living15</th>\n",
       "      <th>sqft_lot15</th>\n",
       "    </tr>\n",
       "  </thead>\n",
       "  <tbody>\n",
       "    <tr>\n",
       "      <th>7252</th>\n",
       "      <td>6762700020</td>\n",
       "      <td>20141013T000000</td>\n",
       "      <td>7700000</td>\n",
       "      <td>6</td>\n",
       "      <td>8</td>\n",
       "      <td>12050</td>\n",
       "      <td>27600</td>\n",
       "      <td>2.5</td>\n",
       "      <td>0</td>\n",
       "      <td>3</td>\n",
       "      <td>...</td>\n",
       "      <td>13</td>\n",
       "      <td>8570</td>\n",
       "      <td>3480</td>\n",
       "      <td>1910</td>\n",
       "      <td>1987</td>\n",
       "      <td>98102</td>\n",
       "      <td>47.6298</td>\n",
       "      <td>-122.323</td>\n",
       "      <td>3940</td>\n",
       "      <td>8800</td>\n",
       "    </tr>\n",
       "  </tbody>\n",
       "</table>\n",
       "<p>1 rows × 21 columns</p>\n",
       "</div>"
      ],
      "text/plain": [
       "              id             date    price  bedrooms  bathrooms  sqft_living  \\\n",
       "7252  6762700020  20141013T000000  7700000         6          8        12050   \n",
       "\n",
       "      sqft_lot  floors  waterfront  view     ...      grade  sqft_above  \\\n",
       "7252     27600     2.5           0     3     ...         13        8570   \n",
       "\n",
       "      sqft_basement  yr_built  yr_renovated  zipcode      lat     long  \\\n",
       "7252           3480      1910          1987    98102  47.6298 -122.323   \n",
       "\n",
       "      sqft_living15  sqft_lot15  \n",
       "7252           3940        8800  \n",
       "\n",
       "[1 rows x 21 columns]"
      ]
     },
     "execution_count": 31,
     "metadata": {},
     "output_type": "execute_result"
    }
   ],
   "source": [
    "#look at the observation of the house with the highest price\n",
    "highest=max(sales['price'])\n",
    "sales[sales.price == highest]\n"
   ]
  },
  {
   "cell_type": "markdown",
   "metadata": {},
   "source": [
    "##We found the zip code with the highestaverage house price. What is the average house price of that zip code?"
   ]
  },
  {
   "cell_type": "code",
   "execution_count": 32,
   "metadata": {
    "collapsed": false
   },
   "outputs": [
    {
     "name": "stdout",
     "output_type": "stream",
     "text": [
      "2160606.6\n"
     ]
    }
   ],
   "source": [
    "data =sales.groupby('zipcode').mean()\n",
    "highest=max(data['price'])\n",
    "print(highest)\n",
    "#print(data['price'])"
   ]
  },
  {
   "cell_type": "markdown",
   "metadata": {},
   "source": [
    "##What fraction of the houses have living space between 2000 sq ft. and 4000 sq.ft?"
   ]
  },
  {
   "cell_type": "code",
   "execution_count": 33,
   "metadata": {
    "collapsed": false
   },
   "outputs": [
    {
     "data": {
      "text/plain": [
       "0.4266413732475825"
      ]
     },
     "execution_count": 33,
     "metadata": {},
     "output_type": "execute_result"
    }
   ],
   "source": [
    "living_space = len(sales[(sales.sqft_living>= 2000) &(sales.sqft_living <= 4000)])\n",
    "living_space/len(sales)"
   ]
  },
  {
   "cell_type": "markdown",
   "metadata": {},
   "source": [
    "## What is the difference in RMSE between the model trained with my_features and the one trained with advanced_features"
   ]
  },
  {
   "cell_type": "markdown",
   "metadata": {},
   "source": [
    "#Root Mean Squared Error for Simple Model"
   ]
  },
  {
   "cell_type": "code",
   "execution_count": 35,
   "metadata": {
    "collapsed": true
   },
   "outputs": [],
   "source": [
    "from sklearn.cross_validation import train_test_split\n",
    "train_data,test_data = train_test_split(sales,train_size=0.8)"
   ]
  },
  {
   "cell_type": "code",
   "execution_count": 36,
   "metadata": {
    "collapsed": false
   },
   "outputs": [
    {
     "name": "stdout",
     "output_type": "stream",
     "text": [
      "-44317.302071\n",
      "[ 280.96275285]\n"
     ]
    }
   ],
   "source": [
    "from sklearn.linear_model import LinearRegression\n",
    "X = train_data[['sqft_living']]\n",
    "y=train_data.price\n",
    "#build the linear regression object\n",
    "lm=LinearRegression()\n",
    "# Train the model using the training sets\n",
    "lm.fit(X,y)\n",
    "#print the y intercept\n",
    "print(lm.intercept_)\n",
    "#print the coefficents\n",
    "print(lm.coef_)"
   ]
  },
  {
   "cell_type": "code",
   "execution_count": 37,
   "metadata": {
    "collapsed": false
   },
   "outputs": [
    {
     "name": "stdout",
     "output_type": "stream",
     "text": [
      "[1810 1400 2560 ..., 1920 3920 4070]\n",
      "(4323,)\n",
      "4323\n",
      "[[1810]\n",
      " [1400]\n",
      " [2560]\n",
      " ..., \n",
      " [1920]\n",
      " [3920]\n",
      " [4070]]\n"
     ]
    }
   ],
   "source": [
    "test_X = test_data.sqft_living.values\n",
    "print(test_X)\n",
    "print(np.shape(test_X))\n",
    "print(len(test_X))\n",
    "test_X = np.reshape(test_X, [4323, 1])\n",
    "print(test_X)"
   ]
  },
  {
   "cell_type": "code",
   "execution_count": 38,
   "metadata": {
    "collapsed": false
   },
   "outputs": [
    {
     "data": {
      "text/plain": [
       "68893612558.401703"
      ]
     },
     "execution_count": 38,
     "metadata": {},
     "output_type": "execute_result"
    }
   ],
   "source": [
    "from sklearn.metrics import mean_squared_error\n",
    "from sklearn.metrics import explained_variance_score\n",
    "MSE = mean_squared_error(y_true = test_data.price.values, y_pred = lm.predict(test_X))\n",
    "MSE"
   ]
  },
  {
   "cell_type": "code",
   "execution_count": 39,
   "metadata": {
    "collapsed": false
   },
   "outputs": [
    {
     "data": {
      "text/plain": [
       "262475.9275788957"
      ]
     },
     "execution_count": 39,
     "metadata": {},
     "output_type": "execute_result"
    }
   ],
   "source": [
    "MSE**(0.5)"
   ]
  },
  {
   "cell_type": "markdown",
   "metadata": {},
   "source": [
    "#Root Mean Squared Error for advance features"
   ]
  },
  {
   "cell_type": "code",
   "execution_count": 40,
   "metadata": {
    "collapsed": true
   },
   "outputs": [],
   "source": [
    "my_features =['bedrooms','bathrooms','sqft_living','floors','zipcode']"
   ]
  },
  {
   "cell_type": "code",
   "execution_count": 41,
   "metadata": {
    "collapsed": false
   },
   "outputs": [
    {
     "name": "stdout",
     "output_type": "stream",
     "text": [
      "-58111187.5422\n",
      "[-56592.50762573  13804.93521027    312.40138125  -2765.25947844\n",
      "    593.07133382]\n"
     ]
    }
   ],
   "source": [
    "# create X and y\n",
    "\n",
    "X = sales[my_features]\n",
    "y = sales.price\n",
    "\n",
    "# follow the usual sklearn pattern: import, instantiate, fit\n",
    "from sklearn.linear_model import LinearRegression\n",
    "regr = LinearRegression()\n",
    "regr.fit(X, y)\n",
    "\n",
    "# print intercept and coefficients\n",
    "print(regr.intercept_)\n",
    "print(regr.coef_)"
   ]
  },
  {
   "cell_type": "code",
   "execution_count": 64,
   "metadata": {
    "collapsed": false
   },
   "outputs": [
    {
     "name": "stdout",
     "output_type": "stream",
     "text": [
      "[array([3, 3, 4, ..., 3, 4, 4], dtype=int64), array([ 1.75,  1.  ,  2.5 , ...,  2.5 ,  2.5 ,  2.5 ]), array([1810, 1400, 2560, ..., 1920, 3920, 4070], dtype=int64), array([ 1.,  1.,  2., ...,  2.,  2.,  2.]), array([98034, 98055, 98029, ..., 98055, 98075, 98052], dtype=int64)]\n",
      "(5, 4323)\n",
      "1985714278.08\n"
     ]
    }
   ],
   "source": [
    "#my_features =['bedrooms','bathrooms','sqft_living','floors','zipcode']\n",
    "test_X =[test_data.bedrooms.values, test_data.bathrooms.values,test_data.sqft_living.values,test_data.floors.values,\n",
    "         test_data.zipcode.values]\n",
    "print(test_X)\n",
    "len(test_X)\n",
    "print(np.shape(test_X))\n",
    "test_X=np.reshape(test_X,[4323,5])\n",
    "MSE1 = mean_squared_error(y_true = test_data.price.values, y_pred = regr.predict(test_X))\n",
    "featured_RMSE=MSE1**(0.5)\n",
    "print(featured_RMSE)\n"
   ]
  },
  {
   "cell_type": "code",
   "execution_count": 43,
   "metadata": {
    "collapsed": false
   },
   "outputs": [],
   "source": [
    "advanced_features = ['bedrooms', 'bathrooms', 'sqft_living', 'sqft_lot', 'floors', 'zipcode',\n",
    " 'condition', 'grade','waterfront', 'view','sqft_above', 'sqft_basement', 'yr_built', 'yr_renovated','lat', 'long',\n",
    " 'sqft_living15', 'sqft_lot15', \n",
    "]"
   ]
  },
  {
   "cell_type": "code",
   "execution_count": 44,
   "metadata": {
    "collapsed": false
   },
   "outputs": [
    {
     "name": "stdout",
     "output_type": "stream",
     "text": [
      "6690323.16725\n",
      "[ -3.57665413e+04   4.11442817e+04   1.10442863e+02   1.28597863e-01\n",
      "   6.68954825e+03  -5.82419848e+02   2.63856493e+04   9.58904448e+04\n",
      "   5.82960462e+05   5.28709415e+04   7.07852236e+01   3.96576394e+01\n",
      "  -2.62022327e+03   1.98125833e+01   6.02748228e+05  -2.14729826e+05\n",
      "   2.16814012e+01  -3.82641842e-01]\n"
     ]
    }
   ],
   "source": [
    "# create X and y\n",
    "\n",
    "X = sales[advanced_features]\n",
    "y = sales.price\n",
    "\n",
    "# follow the usual sklearn pattern: import, instantiate, fit\n",
    "from sklearn.linear_model import LinearRegression\n",
    "advanced_model = LinearRegression()\n",
    "advanced_model.fit(X, y)\n",
    "\n",
    "# print intercept and coefficients\n",
    "print(advanced_model.intercept_)\n",
    "print(advanced_model.coef_)\n"
   ]
  },
  {
   "cell_type": "code",
   "execution_count": 65,
   "metadata": {
    "collapsed": false
   },
   "outputs": [
    {
     "name": "stdout",
     "output_type": "stream",
     "text": [
      "202328.481924\n"
     ]
    }
   ],
   "source": [
    "from sklearn.metrics import mean_squared_error\n",
    "from sklearn.metrics import explained_variance_score\n",
    "\n",
    "#my_features =['bedrooms','bathrooms','sqft_living','floors','zipcode']\n",
    "advanced_features= ['bedrooms', 'bathrooms', 'sqft_living', 'sqft_lot', 'floors', 'zipcode',\n",
    " 'condition', 'grade','waterfront', 'view','sqft_above', 'sqft_basement', 'yr_built', 'yr_renovated','lat', 'long',\n",
    " 'sqft_living15', 'sqft_lot15', \n",
    "]\n",
    "\n",
    "test_X =test_data[advanced_features].values\n",
    "#print(test_X)\n",
    "len(test_X)\n",
    "test_X.shape\n",
    "#print(np.shape(test_X))\n",
    "test_X=np.reshape(test_X,[4323,18])\n",
    "#test_X\n",
    "\n",
    "MSE1 = mean_squared_error(y_true = test_data.price.values, y_pred = advanced_model.predict(test_X))\n",
    "advanced_RMSE=MSE1**(0.5)\n",
    "print(advanced_RMSE)"
   ]
  },
  {
   "cell_type": "code",
   "execution_count": 66,
   "metadata": {
    "collapsed": false
   },
   "outputs": [
    {
     "name": "stdout",
     "output_type": "stream",
     "text": [
      "1985714278.08\n",
      "202328.481924\n"
     ]
    }
   ],
   "source": [
    "print(featured_RMSE)\n",
    "print(advanced_RMSE)"
   ]
  },
  {
   "cell_type": "code",
   "execution_count": 68,
   "metadata": {
    "collapsed": false
   },
   "outputs": [
    {
     "data": {
      "text/plain": [
       "1985511949.5995297"
      ]
     },
     "execution_count": 68,
     "metadata": {},
     "output_type": "execute_result"
    }
   ],
   "source": [
    "featured_RMSE-advanced_RMSE"
   ]
  },
  {
   "cell_type": "code",
   "execution_count": null,
   "metadata": {
    "collapsed": true
   },
   "outputs": [],
   "source": []
  }
 ],
 "metadata": {
  "kernelspec": {
   "display_name": "Python 3",
   "language": "python",
   "name": "python3"
  },
  "language_info": {
   "codemirror_mode": {
    "name": "ipython",
    "version": 3
   },
   "file_extension": ".py",
   "mimetype": "text/x-python",
   "name": "python",
   "nbconvert_exporter": "python",
   "pygments_lexer": "ipython3",
   "version": "3.4.3"
  }
 },
 "nbformat": 4,
 "nbformat_minor": 0
}
